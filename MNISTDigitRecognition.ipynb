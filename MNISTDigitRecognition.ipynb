{
 "cells": [
  {
   "cell_type": "markdown",
   "id": "ac752f35",
   "metadata": {},
   "source": [
    "# MNIST Handwritten digit recognition"
   ]
  },
  {
   "cell_type": "code",
   "execution_count": 1,
   "id": "076115f6",
   "metadata": {},
   "outputs": [
    {
     "name": "stderr",
     "output_type": "stream",
     "text": [
      "Using TensorFlow backend.\n"
     ]
    }
   ],
   "source": [
    "#Importing necessary libraries\n",
    "\n",
    "import tensorflow as tf\n",
    "from tensorflow import keras\n",
    "import numpy as np\n",
    "import pandas as pd\n",
    "import matplotlib.pyplot as plt\n",
    "from keras.layers import Conv2D,Input, Lambda, Dense, Flatten, Dropout, MaxPool2D\n",
    "from keras.models import Model\n",
    "from keras.optimizers import Adam\n",
    "from keras.models import Sequential\n",
    "from keras.callbacks import EarlyStopping, ReduceLROnPlateau, ModelCheckpoint\n",
    "%matplotlib inline"
   ]
  },
  {
   "cell_type": "code",
   "execution_count": 2,
   "id": "304e6a1e",
   "metadata": {},
   "outputs": [
    {
     "data": {
      "text/plain": [
       "Index(['label', 'pixel0', 'pixel1', 'pixel2', 'pixel3', 'pixel4', 'pixel5',\n",
       "       'pixel6', 'pixel7', 'pixel8',\n",
       "       ...\n",
       "       'pixel774', 'pixel775', 'pixel776', 'pixel777', 'pixel778', 'pixel779',\n",
       "       'pixel780', 'pixel781', 'pixel782', 'pixel783'],\n",
       "      dtype='object', length=785)"
      ]
     },
     "execution_count": 2,
     "metadata": {},
     "output_type": "execute_result"
    }
   ],
   "source": [
    "#Reading the data\n",
    "\n",
    "train_data = pd.read_csv('train.csv')\n",
    "test_data = pd.read_csv('test.csv')\n",
    "train_data.columns"
   ]
  },
  {
   "cell_type": "markdown",
   "id": "f1aa5996",
   "metadata": {},
   "source": [
    "# Using ANN"
   ]
  },
  {
   "cell_type": "code",
   "execution_count": 3,
   "id": "7924a90f",
   "metadata": {},
   "outputs": [],
   "source": [
    "from sklearn.model_selection import train_test_split\n",
    "y = train_data['label']\n",
    "train_data = train_data.drop(['label'],axis=1)\n",
    "x_train,x_test,y_train,y_test = train_test_split(train_data,y,test_size=0.1,random_state = 42)"
   ]
  },
  {
   "cell_type": "code",
   "execution_count": 4,
   "id": "25514ed7",
   "metadata": {},
   "outputs": [
    {
     "data": {
      "text/plain": [
       "((37800,), (37800, 784))"
      ]
     },
     "execution_count": 4,
     "metadata": {},
     "output_type": "execute_result"
    }
   ],
   "source": [
    "y_train.shape,x_train.shape"
   ]
  },
  {
   "cell_type": "code",
   "execution_count": 5,
   "id": "054c1492",
   "metadata": {},
   "outputs": [],
   "source": [
    "#Normalizing the data\n",
    "\n",
    "x_train = x_train/255.0\n",
    "x_test = x_test/255.0"
   ]
  },
  {
   "cell_type": "code",
   "execution_count": 12,
   "id": "b051e151",
   "metadata": {},
   "outputs": [],
   "source": [
    "#Building the ANN model\n",
    "\n",
    "model = Sequential()\n",
    "model.add(Dense(256, input_shape=(784,), activation=\"relu\"))\n",
    "model.add(Dropout(0.2))\n",
    "model.add(Dense(100, activation=\"relu\"))\n",
    "model.add(Dropout(0.2))\n",
    "model.add(Dense(10, activation=\"softmax\"))"
   ]
  },
  {
   "cell_type": "code",
   "execution_count": 13,
   "id": "a47a314c",
   "metadata": {},
   "outputs": [],
   "source": [
    "#Compiling with the model parameters\n",
    "\n",
    "model.compile(Adam(lr=0.01),\n",
    "                  loss='sparse_categorical_crossentropy',\n",
    "                  metrics=['accuracy'])"
   ]
  },
  {
   "cell_type": "code",
   "execution_count": 16,
   "id": "b5906f65",
   "metadata": {},
   "outputs": [
    {
     "name": "stdout",
     "output_type": "stream",
     "text": [
      "Epoch 1/10\n",
      "37800/37800 [==============================] - 3s 79us/step - loss: 0.2312 - accuracy: 0.9478\n",
      "Epoch 2/10\n",
      "37800/37800 [==============================] - 3s 78us/step - loss: 0.2260 - accuracy: 0.9502\n",
      "Epoch 3/10\n",
      "37800/37800 [==============================] - 3s 80us/step - loss: 0.2109 - accuracy: 0.9543\n",
      "Epoch 4/10\n",
      "37800/37800 [==============================] - 3s 75us/step - loss: 0.2157 - accuracy: 0.9539\n",
      "Epoch 5/10\n",
      "37800/37800 [==============================] - 3s 82us/step - loss: 0.2208 - accuracy: 0.9526\n",
      "Epoch 6/10\n",
      "37800/37800 [==============================] - 3s 78us/step - loss: 0.2040 - accuracy: 0.9552\n",
      "Epoch 7/10\n",
      "37800/37800 [==============================] - 3s 79us/step - loss: 0.2168 - accuracy: 0.9553\n",
      "Epoch 8/10\n",
      "37800/37800 [==============================] - 3s 79us/step - loss: 0.2258 - accuracy: 0.9556\n",
      "Epoch 9/10\n",
      "37800/37800 [==============================] - 3s 79us/step - loss: 0.1995 - accuracy: 0.9572\n",
      "Epoch 10/10\n",
      "37800/37800 [==============================] - 3s 79us/step - loss: 0.1906 - accuracy: 0.9591\n"
     ]
    }
   ],
   "source": [
    "#Fit the model to our data\n",
    "\n",
    "op = model.fit(x_train, y_train, epochs=10)"
   ]
  },
  {
   "cell_type": "code",
   "execution_count": 91,
   "id": "fa02cc1b",
   "metadata": {},
   "outputs": [],
   "source": [
    "frIndex = pd.read_csv('sample_submission.csv')"
   ]
  },
  {
   "cell_type": "code",
   "execution_count": 34,
   "id": "c58f80e8",
   "metadata": {},
   "outputs": [],
   "source": [
    "res = model.predict(test_data)\n",
    "res = np.argmax(res,axis=1)"
   ]
  },
  {
   "cell_type": "code",
   "execution_count": 35,
   "id": "350a6bfd",
   "metadata": {},
   "outputs": [],
   "source": [
    "ans = list(zip(frIndex.ImageId,res))\n",
    "ans = pd.DataFrame(ans,columns = ['ImageId','Label'])\n",
    "ans.to_csv('BasicAnn.csv',index = False)"
   ]
  },
  {
   "cell_type": "markdown",
   "id": "0f314e58",
   "metadata": {},
   "source": [
    "# Using CNN"
   ]
  },
  {
   "cell_type": "code",
   "execution_count": 72,
   "id": "2fbe0b81",
   "metadata": {},
   "outputs": [],
   "source": [
    "#Reading the data\n",
    "mnist = tf.keras.datasets.mnist\n",
    "(train_images, train_labels), (test_images, test_labels) = mnist.load_data()"
   ]
  },
  {
   "cell_type": "code",
   "execution_count": 73,
   "id": "56055045",
   "metadata": {},
   "outputs": [],
   "source": [
    "#normalizing data\n",
    "train_images=train_images.reshape(60000, 28, 28, 1)\n",
    "train_images=train_images / 255.0\n",
    "test_images = test_images.reshape(10000, 28, 28, 1)\n",
    "test_images=test_images/255.0"
   ]
  },
  {
   "cell_type": "code",
   "execution_count": 75,
   "id": "e9738e13",
   "metadata": {},
   "outputs": [
    {
     "data": {
      "text/plain": [
       "(60000, 28, 28, 1)"
      ]
     },
     "execution_count": 75,
     "metadata": {},
     "output_type": "execute_result"
    }
   ],
   "source": [
    "train_images.shape"
   ]
  },
  {
   "cell_type": "code",
   "execution_count": 113,
   "id": "41f649f1",
   "metadata": {},
   "outputs": [],
   "source": [
    "kernel_size = (3,3)\n",
    "pool_size = (2,2)\n",
    "first_filters = 32\n",
    "dropout_conv = 0.3\n",
    "IMAGE_SIZE = 28"
   ]
  },
  {
   "cell_type": "code",
   "execution_count": 87,
   "id": "76edefd9",
   "metadata": {},
   "outputs": [
    {
     "name": "stdout",
     "output_type": "stream",
     "text": [
      "Model: \"sequential_13\"\n",
      "_________________________________________________________________\n",
      "Layer (type)                 Output Shape              Param #   \n",
      "=================================================================\n",
      "conv2d_44 (Conv2D)           (None, 26, 26, 32)        320       \n",
      "_________________________________________________________________\n",
      "conv2d_45 (Conv2D)           (None, 24, 24, 32)        9248      \n",
      "_________________________________________________________________\n",
      "conv2d_46 (Conv2D)           (None, 22, 22, 32)        9248      \n",
      "_________________________________________________________________\n",
      "max_pooling2d_15 (MaxPooling (None, 11, 11, 32)        0         \n",
      "_________________________________________________________________\n",
      "dropout_26 (Dropout)         (None, 11, 11, 32)        0         \n",
      "_________________________________________________________________\n",
      "flatten_10 (Flatten)         (None, 3872)              0         \n",
      "_________________________________________________________________\n",
      "dense_22 (Dense)             (None, 128)               495744    \n",
      "_________________________________________________________________\n",
      "dropout_27 (Dropout)         (None, 128)               0         \n",
      "_________________________________________________________________\n",
      "dense_23 (Dense)             (None, 10)                1290      \n",
      "=================================================================\n",
      "Total params: 515,850\n",
      "Trainable params: 515,850\n",
      "Non-trainable params: 0\n",
      "_________________________________________________________________\n"
     ]
    }
   ],
   "source": [
    "#Constructing a simple CNN model\n",
    "\n",
    "model = Sequential()\n",
    "model.add(Conv2D(first_filters,kernel_size,activation='relu',input_shape = (IMAGE_SIZE,IMAGE_SIZE,1))) #1 if the images are gray. 3 if images are RGB\n",
    "model.add(Conv2D(first_filters,kernel_size,activation='relu'))\n",
    "model.add(Conv2D(first_filters,kernel_size,activation='relu'))\n",
    "model.add(MaxPool2D(pool_size=pool_size))\n",
    "model.add(Dropout(dropout_conv))\n",
    "\n",
    "model.add(Flatten())\n",
    "\n",
    "model.add(Dense(128, activation='relu'))\n",
    "model.add(Dropout(dropout_dense))\n",
    "model.add(Dense(10, activation='softmax'))\n",
    "\n",
    "model.compile(Adam(lr=0.0001), loss='sparse_categorical_crossentropy',metrics=['accuracy'])\n",
    "model.summary()"
   ]
  },
  {
   "cell_type": "code",
   "execution_count": 89,
   "id": "e255639f",
   "metadata": {},
   "outputs": [
    {
     "name": "stdout",
     "output_type": "stream",
     "text": [
      "Epoch 1/30\n",
      "60000/60000 [==============================] - 7s 109us/step - loss: 0.0625 - accuracy: 0.9805\n",
      "Epoch 2/30\n",
      " 1504/60000 [..............................] - ETA: 6s - loss: 0.0528 - accuracy: 0.9827"
     ]
    },
    {
     "name": "stderr",
     "output_type": "stream",
     "text": [
      "C:\\Users\\ImperiousPawan\\Anaconda3\\envs\\tensorflow\\lib\\site-packages\\keras\\callbacks\\callbacks.py:707: RuntimeWarning: Can save best model only with val_accuracy available, skipping.\n",
      "  'skipping.' % (self.monitor), RuntimeWarning)\n"
     ]
    },
    {
     "name": "stdout",
     "output_type": "stream",
     "text": [
      "60000/60000 [==============================] - 6s 108us/step - loss: 0.0536 - accuracy: 0.9838\n",
      "Epoch 3/30\n",
      "60000/60000 [==============================] - 6s 107us/step - loss: 0.0458 - accuracy: 0.9852\n",
      "Epoch 4/30\n",
      "60000/60000 [==============================] - 6s 107us/step - loss: 0.0406 - accuracy: 0.9875\n",
      "Epoch 5/30\n",
      "60000/60000 [==============================] - 6s 107us/step - loss: 0.0362 - accuracy: 0.9882\n",
      "Epoch 6/30\n",
      "60000/60000 [==============================] - 6s 107us/step - loss: 0.0322 - accuracy: 0.9897\n",
      "Epoch 7/30\n",
      "60000/60000 [==============================] - 6s 108us/step - loss: 0.0297 - accuracy: 0.9909\n",
      "Epoch 8/30\n",
      "60000/60000 [==============================] - 6s 107us/step - loss: 0.0282 - accuracy: 0.9913\n",
      "Epoch 9/30\n",
      "60000/60000 [==============================] - 7s 109us/step - loss: 0.0251 - accuracy: 0.9920\n",
      "Epoch 10/30\n",
      "60000/60000 [==============================] - 6s 108us/step - loss: 0.0239 - accuracy: 0.9925\n",
      "Epoch 11/30\n",
      "60000/60000 [==============================] - 7s 109us/step - loss: 0.0212 - accuracy: 0.9932\n",
      "Epoch 12/30\n",
      "60000/60000 [==============================] - 7s 110us/step - loss: 0.0205 - accuracy: 0.9932\n",
      "Epoch 13/30\n",
      "60000/60000 [==============================] - 7s 109us/step - loss: 0.0188 - accuracy: 0.9935\n",
      "Epoch 14/30\n",
      "60000/60000 [==============================] - 7s 110us/step - loss: 0.0176 - accuracy: 0.9943\n",
      "Epoch 15/30\n",
      "60000/60000 [==============================] - 7s 111us/step - loss: 0.0167 - accuracy: 0.9945\n",
      "Epoch 16/30\n",
      "60000/60000 [==============================] - 7s 111us/step - loss: 0.0150 - accuracy: 0.9952\n",
      "Epoch 17/30\n",
      "60000/60000 [==============================] - 7s 114us/step - loss: 0.0146 - accuracy: 0.9951\n",
      "Epoch 18/30\n",
      "60000/60000 [==============================] - 7s 112us/step - loss: 0.0135 - accuracy: 0.9955\n",
      "Epoch 19/30\n",
      "60000/60000 [==============================] - 7s 113us/step - loss: 0.0129 - accuracy: 0.9959\n",
      "Epoch 20/30\n",
      "60000/60000 [==============================] - 7s 113us/step - loss: 0.0127 - accuracy: 0.9958\n",
      "Epoch 21/30\n",
      "60000/60000 [==============================] - 7s 114us/step - loss: 0.0118 - accuracy: 0.9957\n",
      "Epoch 00021: early stopping\n"
     ]
    }
   ],
   "source": [
    "#Fitting the model with our data along with necessary callbacks\n",
    "\n",
    "filepath = 'CustomCNNMnist.h5'\n",
    "es = EarlyStopping(monitor='accuracy', mode='max', verbose=1, patience=2)\n",
    "reduce_lr = ReduceLROnPlateau(monitor='accuracy',factor=0.5, patience=3, verbose=1, mode='max',min_lr=0.00001)\n",
    "checkpoint = ModelCheckpoint(filepath,monitor='val_accuracy',verbose=1, save_best_only=True,mode='max')\n",
    "\n",
    "fitting = model.fit(train_images,train_labels,epochs=30,callbacks = [reduce_lr,checkpoint,es])"
   ]
  },
  {
   "cell_type": "code",
   "execution_count": 95,
   "id": "9b32dc2f",
   "metadata": {},
   "outputs": [],
   "source": [
    "test_data = np.array(test_data)\n",
    "test_data = test_data.reshape(28000,28,28,1)"
   ]
  },
  {
   "cell_type": "code",
   "execution_count": 96,
   "id": "34a9a95a",
   "metadata": {},
   "outputs": [],
   "source": [
    "cnnres = model.predict(test_data)"
   ]
  },
  {
   "cell_type": "code",
   "execution_count": 98,
   "id": "8fde8f71",
   "metadata": {},
   "outputs": [],
   "source": [
    "cnnres = np.argmax(cnnres,axis = 1)\n",
    "ans = list(zip(frIndex.ImageId,cnnres))\n",
    "ans = pd.DataFrame(ans,columns = ['ImageId','Label'])\n",
    "ans.to_csv('BasicCnn.csv',index = False)"
   ]
  },
  {
   "cell_type": "markdown",
   "id": "b799dc08",
   "metadata": {},
   "source": [
    "# Using ML algorithms"
   ]
  },
  {
   "cell_type": "markdown",
   "id": "83448203",
   "metadata": {},
   "source": [
    "KNN Classifier"
   ]
  },
  {
   "cell_type": "code",
   "execution_count": 101,
   "id": "ca4f1d30",
   "metadata": {},
   "outputs": [],
   "source": [
    "y = train_data['label']\n",
    "train_data = train_data.drop(['label'],axis=1)/255.0\n",
    "test_data = test_data/255.0"
   ]
  },
  {
   "cell_type": "code",
   "execution_count": 102,
   "id": "5cce8eb6",
   "metadata": {},
   "outputs": [
    {
     "data": {
      "text/plain": [
       "((42000, 784), (28000, 784))"
      ]
     },
     "execution_count": 102,
     "metadata": {},
     "output_type": "execute_result"
    }
   ],
   "source": [
    "train_data.shape,test_data.shape"
   ]
  },
  {
   "cell_type": "code",
   "execution_count": 103,
   "id": "30626898",
   "metadata": {},
   "outputs": [
    {
     "data": {
      "text/html": [
       "<div>\n",
       "<style scoped>\n",
       "    .dataframe tbody tr th:only-of-type {\n",
       "        vertical-align: middle;\n",
       "    }\n",
       "\n",
       "    .dataframe tbody tr th {\n",
       "        vertical-align: top;\n",
       "    }\n",
       "\n",
       "    .dataframe thead th {\n",
       "        text-align: right;\n",
       "    }\n",
       "</style>\n",
       "<table border=\"1\" class=\"dataframe\">\n",
       "  <thead>\n",
       "    <tr style=\"text-align: right;\">\n",
       "      <th></th>\n",
       "      <th>pixel0</th>\n",
       "      <th>pixel1</th>\n",
       "      <th>pixel2</th>\n",
       "      <th>pixel3</th>\n",
       "      <th>pixel4</th>\n",
       "      <th>pixel5</th>\n",
       "      <th>pixel6</th>\n",
       "      <th>pixel7</th>\n",
       "      <th>pixel8</th>\n",
       "      <th>pixel9</th>\n",
       "      <th>...</th>\n",
       "      <th>pixel774</th>\n",
       "      <th>pixel775</th>\n",
       "      <th>pixel776</th>\n",
       "      <th>pixel777</th>\n",
       "      <th>pixel778</th>\n",
       "      <th>pixel779</th>\n",
       "      <th>pixel780</th>\n",
       "      <th>pixel781</th>\n",
       "      <th>pixel782</th>\n",
       "      <th>pixel783</th>\n",
       "    </tr>\n",
       "  </thead>\n",
       "  <tbody>\n",
       "    <tr>\n",
       "      <th>0</th>\n",
       "      <td>0.0</td>\n",
       "      <td>0.0</td>\n",
       "      <td>0.0</td>\n",
       "      <td>0.0</td>\n",
       "      <td>0.0</td>\n",
       "      <td>0.0</td>\n",
       "      <td>0.0</td>\n",
       "      <td>0.0</td>\n",
       "      <td>0.0</td>\n",
       "      <td>0.0</td>\n",
       "      <td>...</td>\n",
       "      <td>0.0</td>\n",
       "      <td>0.0</td>\n",
       "      <td>0.0</td>\n",
       "      <td>0.0</td>\n",
       "      <td>0.0</td>\n",
       "      <td>0.0</td>\n",
       "      <td>0.0</td>\n",
       "      <td>0.0</td>\n",
       "      <td>0.0</td>\n",
       "      <td>0.0</td>\n",
       "    </tr>\n",
       "    <tr>\n",
       "      <th>1</th>\n",
       "      <td>0.0</td>\n",
       "      <td>0.0</td>\n",
       "      <td>0.0</td>\n",
       "      <td>0.0</td>\n",
       "      <td>0.0</td>\n",
       "      <td>0.0</td>\n",
       "      <td>0.0</td>\n",
       "      <td>0.0</td>\n",
       "      <td>0.0</td>\n",
       "      <td>0.0</td>\n",
       "      <td>...</td>\n",
       "      <td>0.0</td>\n",
       "      <td>0.0</td>\n",
       "      <td>0.0</td>\n",
       "      <td>0.0</td>\n",
       "      <td>0.0</td>\n",
       "      <td>0.0</td>\n",
       "      <td>0.0</td>\n",
       "      <td>0.0</td>\n",
       "      <td>0.0</td>\n",
       "      <td>0.0</td>\n",
       "    </tr>\n",
       "    <tr>\n",
       "      <th>2</th>\n",
       "      <td>0.0</td>\n",
       "      <td>0.0</td>\n",
       "      <td>0.0</td>\n",
       "      <td>0.0</td>\n",
       "      <td>0.0</td>\n",
       "      <td>0.0</td>\n",
       "      <td>0.0</td>\n",
       "      <td>0.0</td>\n",
       "      <td>0.0</td>\n",
       "      <td>0.0</td>\n",
       "      <td>...</td>\n",
       "      <td>0.0</td>\n",
       "      <td>0.0</td>\n",
       "      <td>0.0</td>\n",
       "      <td>0.0</td>\n",
       "      <td>0.0</td>\n",
       "      <td>0.0</td>\n",
       "      <td>0.0</td>\n",
       "      <td>0.0</td>\n",
       "      <td>0.0</td>\n",
       "      <td>0.0</td>\n",
       "    </tr>\n",
       "    <tr>\n",
       "      <th>3</th>\n",
       "      <td>0.0</td>\n",
       "      <td>0.0</td>\n",
       "      <td>0.0</td>\n",
       "      <td>0.0</td>\n",
       "      <td>0.0</td>\n",
       "      <td>0.0</td>\n",
       "      <td>0.0</td>\n",
       "      <td>0.0</td>\n",
       "      <td>0.0</td>\n",
       "      <td>0.0</td>\n",
       "      <td>...</td>\n",
       "      <td>0.0</td>\n",
       "      <td>0.0</td>\n",
       "      <td>0.0</td>\n",
       "      <td>0.0</td>\n",
       "      <td>0.0</td>\n",
       "      <td>0.0</td>\n",
       "      <td>0.0</td>\n",
       "      <td>0.0</td>\n",
       "      <td>0.0</td>\n",
       "      <td>0.0</td>\n",
       "    </tr>\n",
       "    <tr>\n",
       "      <th>4</th>\n",
       "      <td>0.0</td>\n",
       "      <td>0.0</td>\n",
       "      <td>0.0</td>\n",
       "      <td>0.0</td>\n",
       "      <td>0.0</td>\n",
       "      <td>0.0</td>\n",
       "      <td>0.0</td>\n",
       "      <td>0.0</td>\n",
       "      <td>0.0</td>\n",
       "      <td>0.0</td>\n",
       "      <td>...</td>\n",
       "      <td>0.0</td>\n",
       "      <td>0.0</td>\n",
       "      <td>0.0</td>\n",
       "      <td>0.0</td>\n",
       "      <td>0.0</td>\n",
       "      <td>0.0</td>\n",
       "      <td>0.0</td>\n",
       "      <td>0.0</td>\n",
       "      <td>0.0</td>\n",
       "      <td>0.0</td>\n",
       "    </tr>\n",
       "  </tbody>\n",
       "</table>\n",
       "<p>5 rows × 784 columns</p>\n",
       "</div>"
      ],
      "text/plain": [
       "   pixel0  pixel1  pixel2  pixel3  pixel4  pixel5  pixel6  pixel7  pixel8  \\\n",
       "0     0.0     0.0     0.0     0.0     0.0     0.0     0.0     0.0     0.0   \n",
       "1     0.0     0.0     0.0     0.0     0.0     0.0     0.0     0.0     0.0   \n",
       "2     0.0     0.0     0.0     0.0     0.0     0.0     0.0     0.0     0.0   \n",
       "3     0.0     0.0     0.0     0.0     0.0     0.0     0.0     0.0     0.0   \n",
       "4     0.0     0.0     0.0     0.0     0.0     0.0     0.0     0.0     0.0   \n",
       "\n",
       "   pixel9  ...  pixel774  pixel775  pixel776  pixel777  pixel778  pixel779  \\\n",
       "0     0.0  ...       0.0       0.0       0.0       0.0       0.0       0.0   \n",
       "1     0.0  ...       0.0       0.0       0.0       0.0       0.0       0.0   \n",
       "2     0.0  ...       0.0       0.0       0.0       0.0       0.0       0.0   \n",
       "3     0.0  ...       0.0       0.0       0.0       0.0       0.0       0.0   \n",
       "4     0.0  ...       0.0       0.0       0.0       0.0       0.0       0.0   \n",
       "\n",
       "   pixel780  pixel781  pixel782  pixel783  \n",
       "0       0.0       0.0       0.0       0.0  \n",
       "1       0.0       0.0       0.0       0.0  \n",
       "2       0.0       0.0       0.0       0.0  \n",
       "3       0.0       0.0       0.0       0.0  \n",
       "4       0.0       0.0       0.0       0.0  \n",
       "\n",
       "[5 rows x 784 columns]"
      ]
     },
     "execution_count": 103,
     "metadata": {},
     "output_type": "execute_result"
    }
   ],
   "source": [
    "train_data.head()"
   ]
  },
  {
   "cell_type": "code",
   "execution_count": 104,
   "id": "41a078e5",
   "metadata": {},
   "outputs": [],
   "source": [
    "from sklearn.model_selection import train_test_split\n",
    "\n",
    "x_train,x_test,y_train,y_test = train_test_split(train_data,y,test_size = 0.1,random_state = 42)"
   ]
  },
  {
   "cell_type": "code",
   "execution_count": 110,
   "id": "c94c4b9d",
   "metadata": {},
   "outputs": [
    {
     "data": {
      "text/plain": [
       "KNeighborsClassifier()"
      ]
     },
     "execution_count": 110,
     "metadata": {},
     "output_type": "execute_result"
    }
   ],
   "source": [
    "from sklearn.neighbors import KNeighborsClassifier\n",
    "neigh = KNeighborsClassifier(n_neighbors=5)\n",
    "neigh.fit(x_train, y_train)"
   ]
  },
  {
   "cell_type": "code",
   "execution_count": 112,
   "id": "fa089d22",
   "metadata": {},
   "outputs": [
    {
     "data": {
      "text/plain": [
       "0.9782275132275132"
      ]
     },
     "execution_count": 112,
     "metadata": {},
     "output_type": "execute_result"
    }
   ],
   "source": [
    "neigh.score(x_train,y_train)"
   ]
  },
  {
   "cell_type": "code",
   "execution_count": 111,
   "id": "4ef396e1",
   "metadata": {},
   "outputs": [
    {
     "data": {
      "text/plain": [
       "0.9654761904761905"
      ]
     },
     "execution_count": 111,
     "metadata": {},
     "output_type": "execute_result"
    }
   ],
   "source": [
    "neigh.score(x_test,y_test)"
   ]
  },
  {
   "cell_type": "markdown",
   "id": "4c0bbc9f",
   "metadata": {},
   "source": [
    "Gaussian naive bayes classifier"
   ]
  },
  {
   "cell_type": "code",
   "execution_count": 6,
   "id": "238887f3",
   "metadata": {},
   "outputs": [
    {
     "data": {
      "text/plain": [
       "GaussianNB()"
      ]
     },
     "execution_count": 6,
     "metadata": {},
     "output_type": "execute_result"
    }
   ],
   "source": [
    "from sklearn.naive_bayes import GaussianNB\n",
    "\n",
    "gnb = GaussianNB()\n",
    "gnb.fit(x_train, y_train)"
   ]
  },
  {
   "cell_type": "code",
   "execution_count": 7,
   "id": "0b36261d",
   "metadata": {},
   "outputs": [
    {
     "data": {
      "text/plain": [
       "(0.5661111111111111, 0.5671428571428572)"
      ]
     },
     "execution_count": 7,
     "metadata": {},
     "output_type": "execute_result"
    }
   ],
   "source": [
    "gnb.score(x_train,y_train),gnb.score(x_test,y_test)"
   ]
  }
 ],
 "metadata": {
  "kernelspec": {
   "display_name": "Python [conda env:tensorflow] *",
   "language": "python",
   "name": "conda-env-tensorflow-py"
  },
  "language_info": {
   "codemirror_mode": {
    "name": "ipython",
    "version": 3
   },
   "file_extension": ".py",
   "mimetype": "text/x-python",
   "name": "python",
   "nbconvert_exporter": "python",
   "pygments_lexer": "ipython3",
   "version": "3.7.9"
  }
 },
 "nbformat": 4,
 "nbformat_minor": 5
}
